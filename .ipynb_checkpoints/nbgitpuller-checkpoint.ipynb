{
 "cells": [
  {
   "cell_type": "code",
   "execution_count": 1,
   "id": "e76160b9",
   "metadata": {
    "collapsed": true
   },
   "outputs": [
    {
     "name": "stdout",
     "output_type": "stream",
     "text": [
      "Collecting nbgitpuller-link\n",
      "  Obtaining dependency information for nbgitpuller-link from https://files.pythonhosted.org/packages/68/3a/4d6509c00ad60bd2d24b221a5d3e8e25e40246be89639d5b1da4949d6fdd/nbgitpuller_link-0.2.5-py3-none-any.whl.metadata\n",
      "  Downloading nbgitpuller_link-0.2.5-py3-none-any.whl.metadata (7.0 kB)\n",
      "Requirement already satisfied: click in c:\\users\\renat\\anaconda3\\lib\\site-packages (from nbgitpuller-link) (8.0.4)\n",
      "Collecting validators (from nbgitpuller-link)\n",
      "  Obtaining dependency information for validators from https://files.pythonhosted.org/packages/61/01/28bd2e320ff8445bd2baf760e6e77a0fbc3bb2dce13e7f21fd024bea8eb9/validators-0.32.0-py3-none-any.whl.metadata\n",
      "  Downloading validators-0.32.0-py3-none-any.whl.metadata (3.8 kB)\n",
      "Requirement already satisfied: colorama in c:\\users\\renat\\anaconda3\\lib\\site-packages (from click->nbgitpuller-link) (0.4.6)\n",
      "Downloading nbgitpuller_link-0.2.5-py3-none-any.whl (6.6 kB)\n",
      "Downloading validators-0.32.0-py3-none-any.whl (42 kB)\n",
      "   ---------------------------------------- 0.0/42.7 kB ? eta -:--:--\n",
      "   -------------------------------------- - 41.0/42.7 kB 667.8 kB/s eta 0:00:01\n",
      "   -------------------------------------- - 41.0/42.7 kB 667.8 kB/s eta 0:00:01\n",
      "   -------------------------------------- - 41.0/42.7 kB 667.8 kB/s eta 0:00:01\n",
      "   -------------------------------------- - 41.0/42.7 kB 667.8 kB/s eta 0:00:01\n",
      "   -------------------------------------- - 41.0/42.7 kB 667.8 kB/s eta 0:00:01\n",
      "   -------------------------------------- - 41.0/42.7 kB 667.8 kB/s eta 0:00:01\n",
      "   -------------------------------------- - 41.0/42.7 kB 667.8 kB/s eta 0:00:01\n",
      "   -------------------------------------- - 41.0/42.7 kB 667.8 kB/s eta 0:00:01\n",
      "   -------------------------------------- - 41.0/42.7 kB 667.8 kB/s eta 0:00:01\n",
      "   -------------------------------------- - 41.0/42.7 kB 667.8 kB/s eta 0:00:01\n",
      "   -------------------------------------- - 41.0/42.7 kB 667.8 kB/s eta 0:00:01\n",
      "   -------------------------------------- - 41.0/42.7 kB 667.8 kB/s eta 0:00:01\n",
      "   -------------------------------------- - 41.0/42.7 kB 667.8 kB/s eta 0:00:01\n",
      "   -------------------------------------- - 41.0/42.7 kB 667.8 kB/s eta 0:00:01\n",
      "   ---------------------------------------- 42.7/42.7 kB 46.1 kB/s eta 0:00:00\n",
      "Installing collected packages: validators, nbgitpuller-link\n",
      "Successfully installed nbgitpuller-link-0.2.5 validators-0.32.0\n"
     ]
    }
   ],
   "source": [
    "!pip install nbgitpuller-link"
   ]
  },
  {
   "cell_type": "code",
   "execution_count": 2,
   "id": "df7d1479",
   "metadata": {},
   "outputs": [],
   "source": [
    "from nbgitpuller_link import Link"
   ]
  },
  {
   "cell_type": "code",
   "execution_count": 3,
   "id": "ae6b5050",
   "metadata": {},
   "outputs": [],
   "source": [
    "linker = Link(\n",
    "    jupyterhub_url=\"https://lab.openearthscape.org\",\n",
    "    repository_url=\"https://github.com/renatovillela93/CSDMS_RDasilva_EPub_Lithology\",\n",
    "    branch=\"main\",\n",
    "    launch_path=\"CSDMS_Epub_RSilva_Lithologic_Contrast.ipynb\",\n",
    "    interface=\"lab\",\n",
    "    )"
   ]
  },
  {
   "cell_type": "code",
   "execution_count": 4,
   "id": "0fa14987",
   "metadata": {},
   "outputs": [
    {
     "name": "stdout",
     "output_type": "stream",
     "text": [
      "The nbgitpuller link is:\n",
      "https://lab.openearthscape.org/hub/user-redirect/git-pull?repo=https%3A%2F%2Fgithub.com%2Frenatovillela93%2FCSDMS_RDasilva_EPub_Lithology&urlpath=lab%2Ftree%2FCSDMS_RDasilva_EPub_Lithology%2FCSDMS_Epub_RSilva_Lithologic_Contrast.ipynb%3Fautodecode&branch=main\n"
     ]
    }
   ],
   "source": [
    "print(f\"The nbgitpuller link is:\\n{linker.link}\")"
   ]
  }
 ],
 "metadata": {
  "kernelspec": {
   "display_name": "Python 3 (ipykernel)",
   "language": "python",
   "name": "python3"
  },
  "language_info": {
   "codemirror_mode": {
    "name": "ipython",
    "version": 3
   },
   "file_extension": ".py",
   "mimetype": "text/x-python",
   "name": "python",
   "nbconvert_exporter": "python",
   "pygments_lexer": "ipython3",
   "version": "3.11.5"
  }
 },
 "nbformat": 4,
 "nbformat_minor": 5
}
